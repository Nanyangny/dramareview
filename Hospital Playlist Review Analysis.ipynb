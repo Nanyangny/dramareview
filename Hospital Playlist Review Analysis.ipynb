{
 "cells": [
  {
   "cell_type": "markdown",
   "metadata": {},
   "source": [
    "## 机智的医生生活 - 为什么这么受欢迎？\n",
    "\n",
    "\n",
    "爬了豆瓣200条评论，对这部剧做一个简单的评论分析，究竟大家追剧的点都在哪里？\n"
   ]
  },
  {
   "cell_type": "code",
   "execution_count": 2,
   "metadata": {},
   "outputs": [
    {
     "name": "stdout",
     "output_type": "stream",
     "text": [
      "0\n",
      "20\n",
      "40\n",
      "60\n",
      "80\n",
      "100\n",
      "120\n",
      "140\n",
      "160\n",
      "180\n",
      "200\n",
      "220\n",
      "240\n",
      "260\n",
      "280\n",
      "300\n",
      "320\n",
      "340\n",
      "360\n",
      "380\n",
      "400\n",
      "420\n",
      "440\n",
      "460\n"
     ]
    }
   ],
   "source": [
    "### get 220 comments from douban due to api call restriction \n",
    "import requests\n",
    "from bs4 import BeautifulSoup \n",
    "import re\n",
    "import pandas as pd \n",
    "import matplotlib.pyplot as plt\n",
    "import time\n",
    "\n",
    "\n",
    "s = requests.Session()\n",
    "headers = {\"User-Agent\": \"Mozilla/5.0 (Macintosh; Intel Mac OS X 10_14_3) AppleWebKit/537.36 (KHTML, like Gecko) Chrome/81.0.4044.138 Safari/537.36\"}\n",
    "cookies = {\"DSID=AAO-7r5lWziVvfAI_tAwdimQb5eAb9QyzQ6I3wC2yMfNSW6nU_J8LZsQeheSyUP2BHjDJPyYhgMBREDp0nFTpnVQPhEeoyh2P45OK6z1xLWNsqoJvIsk6lo; IDE=AHWqTUl8zBISquDaKD5fleXQgXN-HC6p3NVFvIfmQM1JbxB5tIasccakPZFSZgs2\"}\n",
    "numbers = [i for i in range(0,480,20)]\n",
    "overrall = []\n",
    "\n",
    "for number in numbers:\n",
    "    url =\"https://movie.douban.com/subject/33464863/comments?start=\"+str(number)+\"&limit=20&sort=new_score&status=P\"\n",
    "    res=s.get(url,headers = headers, cookies=cokies)\n",
    "    print(number)\n",
    "    soup = BeautifulSoup(res.text, 'html.parser')\n",
    "    comment_items = soup.find_all(class_='comment-item')\n",
    "    for comment_item in comment_items:\n",
    "        review = {}\n",
    "        review[\"comment\"] = comment_item.find(class_='short').text\n",
    "        review[\"user\"] = comment_item.div.a['title']\n",
    "        try:\n",
    "            review[\"rating\"] =comment_item.h3.find(class_=re.compile(\"ating\"))['title']\n",
    "        except:\n",
    "            review['rating']='NA'\n",
    "        overrall.append(review)\n",
    "    time.sleep(10)"
   ]
  },
  {
   "cell_type": "code",
   "execution_count": 3,
   "metadata": {},
   "outputs": [
    {
     "name": "stdout",
     "output_type": "stream",
     "text": [
      "<class 'pandas.core.frame.DataFrame'>\n",
      "RangeIndex: 220 entries, 0 to 219\n",
      "Data columns (total 3 columns):\n",
      " #   Column   Non-Null Count  Dtype \n",
      "---  ------   --------------  ----- \n",
      " 0   comment  220 non-null    object\n",
      " 1   user     220 non-null    object\n",
      " 2   rating   220 non-null    object\n",
      "dtypes: object(3)\n",
      "memory usage: 5.3+ KB\n"
     ]
    }
   ],
   "source": [
    "review_data = pd.DataFrame(overrall)\n",
    "review_data.info()\n",
    "### save to output\n",
    "review_data['comment'].to_csv('comments.csv')"
   ]
  },
  {
   "cell_type": "code",
   "execution_count": 4,
   "metadata": {},
   "outputs": [
    {
     "data": {
      "text/plain": [
       "220"
      ]
     },
     "execution_count": 4,
     "metadata": {},
     "output_type": "execute_result"
    }
   ],
   "source": [
    "len(review_data)"
   ]
  },
  {
   "cell_type": "code",
   "execution_count": 294,
   "metadata": {},
   "outputs": [
    {
     "data": {
      "text/plain": [
       "5     114\n",
       "3      42\n",
       "4      36\n",
       "2      16\n",
       "1       7\n",
       "NA      5\n",
       "Name: rating, dtype: int64"
      ]
     },
     "execution_count": 294,
     "metadata": {},
     "output_type": "execute_result"
    }
   ],
   "source": [
    "###豆瓣评分是这样的，5力荐，4推荐，3还行，2较差，1很差。\n",
    "rating_dic ={\"力荐\":5,\"推荐\":4,\"还行\":3,\"较差\":2,\"很差\":1}\n",
    "### need to replace accordingly with the number\n",
    "\n",
    "# review_data['rating']= review_data['rating'].astype('str')\n",
    "review_data['rating'].replace(rating_dic,inplace=True)\n",
    "review_data['rating'].value_counts()"
   ]
  },
  {
   "cell_type": "markdown",
   "metadata": {},
   "source": [
    "### Rating analysis\n",
    "Most of people gives 5 star rating"
   ]
  },
  {
   "cell_type": "code",
   "execution_count": 151,
   "metadata": {},
   "outputs": [
    {
     "data": {
      "image/png": "[encoded data removed]",
      "text/plain": [
       "<Figure size 432x288 with 1 Axes>"
      ]
     },
     "metadata": {
      "needs_background": "light"
     },
     "output_type": "display_data"
    },
    {
     "data": {
      "image/png": "[encoded data removed]",
      "text/plain": [
       "<Figure size 432x288 with 1 Axes>"
      ]
     },
     "metadata": {},
     "output_type": "display_data"
    }
   ],
   "source": [
    "## rating \n",
    "### bar graph\n",
    "rating_plot = review_data.groupby('rating')['rating'].count().plot.bar()\n",
    "rating_plot.set_ylabel('Total Numbers of Rating')\n",
    "rating_plot.set_xticklabels(rating_plot.get_xticklabels(),rotation=40)\n",
    "plt.show()\n",
    "\n",
    "## rating \n",
    "### pie chart \n",
    "rating_list = list(review_data['rating'].unique())\n",
    "rating_pie = (review_data['rating'].value_counts()*100/len(review_data)).plot.pie(autopct=\"%.1f%%\",labels=rating_list)"
   ]
  },
  {
   "cell_type": "markdown",
   "metadata": {},
   "source": [
    "### Comment WordCloud\n",
    "\n",
    "很多评论被提及的词语：\n",
    "编剧\n",
    "导演\n",
    "友情\n",
    "人物\n",
    "医疗"
   ]
  },
  {
   "cell_type": "code",
   "execution_count": 178,
   "metadata": {},
   "outputs": [],
   "source": [
    "combine_comment= review_data['comment'].to_list()\n",
    "combine_comment = \" \".join(combine_comment)\n",
    "\n",
    "from wordcloud import WordCloud, STOPWORDS\n",
    "import jieba  ## to tokenize the chinese characters\n",
    "\n",
    "my_stopwords =open('cn_stopwords.txt','r')\n",
    "wordlist_processed = jieba.cut(combine_comment)\n",
    "wl_space_split=\" \".join(wordlist_processed)\n",
    "stopwords = set(STOPWORDS)\n",
    "\n",
    "for each in my_stopwords.readlines():\n",
    "    stopwords.add(each.replace('\\n',''))"
   ]
  },
  {
   "cell_type": "code",
   "execution_count": 179,
   "metadata": {},
   "outputs": [
    {
     "data": {
      "image/png": "[encoded data removed]",
      "text/plain": [
       "<Figure size 432x288 with 1 Axes>"
      ]
     },
     "metadata": {
      "needs_background": "light"
     },
     "output_type": "display_data"
    }
   ],
   "source": [
    "mywordcloud = WordCloud(stopwords=stopwords,background_color='white',width=5000,height=3000,margin=2,font_path = 'Songti.ttc').generate(wl_space_split)\n",
    "plt.imshow(mywordcloud)\n",
    "plt.axis(\"off\")\n",
    "plt.show()"
   ]
  },
  {
   "cell_type": "code",
   "execution_count": 173,
   "metadata": {},
   "outputs": [],
   "source": [
    "mywordcloud.to_array"
   ]
  },
  {
   "cell_type": "markdown",
   "metadata": {},
   "source": [
    "### Frequency of actors' and directors' name mentions\n",
    "### 看看演员和导演被提及的数据情况"
   ]
  },
  {
   "cell_type": "code",
   "execution_count": 253,
   "metadata": {},
   "outputs": [],
   "source": [
    "review_data['comment'] =review_data['comment'].astype('str')\n",
    "\n",
    "pd = review_data['comment'].str.contains(\"申源浩|申pd|申导\")\n",
    "czs= review_data['comment'].str.contains(\"曹政奭|翼俊|曹叔|曹哥|曹演员|易俊\")\n",
    "sh= review_data['comment'].str.contains(\"颂华|颂和\")\n",
    "zjh=review_data['comment'].str.contains(\"郑敬淏|郑少女|郑京浩|俊完\")\n",
    "lys=review_data['comment'].str.contains(\"柳演锡|安政源\")"
   ]
  },
  {
   "cell_type": "code",
   "execution_count": 256,
   "metadata": {},
   "outputs": [],
   "source": [
    "actor_list = ['申源浩','曹政奭','田美都','郑京浩','柳演锡']\n",
    "mention =[]\n",
    "for actor_pd in [pd,czs,sh,zjh,lys]:\n",
    "    mention.append(len(review_data[actor_pd]))"
   ]
  },
  {
   "cell_type": "code",
   "execution_count": 257,
   "metadata": {},
   "outputs": [],
   "source": [
    "popularity = tuple(zip(actor_list,mention))"
   ]
  },
  {
   "cell_type": "code",
   "execution_count": 258,
   "metadata": {},
   "outputs": [],
   "source": [
    "popularity_dict = { x:y for x,y in popularity}"
   ]
  },
  {
   "cell_type": "code",
   "execution_count": 291,
   "metadata": {},
   "outputs": [
    {
     "data": {
      "image/png": "[encoded data removed]",
      "text/plain": [
       "<Figure size 720x360 with 1 Axes>"
      ]
     },
     "metadata": {
      "needs_background": "light"
     },
     "output_type": "display_data"
    }
   ],
   "source": [
    "import matplotlib.font_manager as fm\n",
    "import matplotlib.pyplot as plt\n",
    "import matplotlib as mpl\n",
    "font = fm.FontProperties(fname='Songti.ttc')  # speicify font\n",
    "plt.rcParams['figure.figsize']=[10,5]\n",
    "# mpl.rcParams['axes.titlesize']=20\n",
    "ax = pd.Series(popularity_dict,index=actor_list).plot(x = '演员/导演',y = '评论提及数',kind = 'bar')\n",
    "ax.set_xticklabels(actor_list, fontproperties=font,rotation=0,fontsize=15)\n",
    "plt.show()"
   ]
  },
  {
   "cell_type": "code",
   "execution_count": 292,
   "metadata": {},
   "outputs": [],
   "source": [
    "# plt.savefig('foo.png')\n",
    "ax.figure.savefig('poluation_.png')"
   ]
  },
  {
   "cell_type": "markdown",
   "metadata": {},
   "source": [
    "### To identify the reasons among low-rated comments"
   ]
  },
  {
   "cell_type": "code",
   "execution_count": 317,
   "metadata": {},
   "outputs": [],
   "source": [
    "# TODO:low rating comments and wordcloud\n",
    "review_data['rating'].replace(to_replace='NA',value=0,inplace=True)\n",
    "review_data['rating']=review_data['rating'].astype('int')\n",
    "#review_data.loc[review_data['rating']<3]\n",
    "low_rate_review =review_data.loc[review_data['rating']<3].comment.to_dict()"
   ]
  },
  {
   "cell_type": "code",
   "execution_count": 334,
   "metadata": {},
   "outputs": [],
   "source": [
    "comment1 = review_data.loc[[34,41,44,57,65]].comment\n",
    "# comment2= review_data.loc[[62,128,214]].comment"
   ]
  },
  {
   "cell_type": "code",
   "execution_count": 335,
   "metadata": {},
   "outputs": [
    {
     "data": {
      "text/plain": [
       "34    跟机智的监狱生活差太多。导演是不是太过着急了点？人物线过多，而且太过于偏向于专业剧，看机智系...\n",
       "41    大可不必因为申源浩就用那么厚重的滤镜看这部片子，看完前三集毫无亮点，医疗剧也不像，喜剧也没有...\n",
       "44    三集弃。和前作全然没有可比性。当导演和团队选择了一个有无数珠玉在前的题材，却无法做到如前作那...\n",
       "57    和机智监狱生活没得比，主角太多就凸显不出主次，没有主线剧情，看得出导演想沿用请回答系列的套路...\n",
       "65    看了两集多，都没被吸引，感觉很混乱，人物没有立起来。和《live》差太多，同样是平稳开头，l...\n",
       "Name: comment, dtype: object"
      ]
     },
     "execution_count": 335,
     "metadata": {},
     "output_type": "execute_result"
    }
   ],
   "source": [
    "### 人物线过多 34, 41,44,57,65\n",
    "### 期待太高,与前作相比有距离 62,128,214"
   ]
  },
  {
   "cell_type": "code",
   "execution_count": null,
   "metadata": {},
   "outputs": [],
   "source": []
  }
 ],
 "metadata": {
  "kernelspec": {
   "display_name": "Python 3",
   "language": "python",
   "name": "python3"
  },
  "language_info": {
   "codemirror_mode": {
    "name": "ipython",
    "version": 3
   },
   "file_extension": ".py",
   "mimetype": "text/x-python",
   "name": "python",
   "nbconvert_exporter": "python",
   "pygments_lexer": "ipython3",
   "version": "3.7.6"
  }
 },
 "nbformat": 4,
 "nbformat_minor": 4
}
